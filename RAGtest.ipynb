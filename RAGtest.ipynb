{
  "cells": [
    {
      "cell_type": "markdown",
      "metadata": {
        "id": "kGtliCKgIAK-"
      },
      "source": [
        "### Loading Libraries\n"
      ]
    },
    {
      "cell_type": "code",
      "execution_count": 1,
      "metadata": {
        "id": "_i7BEvLuHKJN"
      },
      "outputs": [],
      "source": [
        "from langchain.text_splitter import RecursiveCharacterTextSplitter\n",
        "from langchain_community.document_loaders import PyPDFDirectoryLoader\n",
        "from langchain_community.embeddings.sentence_transformer import SentenceTransformerEmbeddings\n",
        "from langchain_community.vectorstores import Chroma\n",
        "from langchain.llms import Ollama\n",
        "\n",
        "\n"
      ]
    },
    {
      "cell_type": "code",
      "execution_count": 6,
      "metadata": {
        "id": "4H5WfjM0HKJO"
      },
      "outputs": [],
      "source": [
        "loader = PyPDFDirectoryLoader(\"papers\")\n",
        "documents = loader.load()"
      ]
    },
    {
      "cell_type": "code",
      "execution_count": 7,
      "metadata": {
        "id": "z5mnp49zLO8B"
      },
      "outputs": [
        {
          "data": {
            "text/plain": [
              "1219"
            ]
          },
          "execution_count": 7,
          "metadata": {},
          "output_type": "execute_result"
        }
      ],
      "source": [
        "len(documents)"
      ]
    },
    {
      "cell_type": "code",
      "execution_count": 8,
      "metadata": {
        "id": "O5M-d7S8HKJQ"
      },
      "outputs": [],
      "source": [
        "text_splitter = RecursiveCharacterTextSplitter(chunk_size=1000,chunk_overlap=200)\n",
        "chunks = text_splitter.split_documents(documents)"
      ]
    },
    {
      "cell_type": "code",
      "execution_count": 9,
      "metadata": {
        "id": "fsfyR66QVY7S"
      },
      "outputs": [
        {
          "data": {
            "text/plain": [
              "3841"
            ]
          },
          "execution_count": 9,
          "metadata": {},
          "output_type": "execute_result"
        }
      ],
      "source": [
        "len(chunks)"
      ]
    },
    {
      "cell_type": "code",
      "execution_count": 2,
      "metadata": {
        "id": "0rJudpA7HKJR"
      },
      "outputs": [],
      "source": [
        "model = SentenceTransformerEmbeddings(model_name=\"mukaj/fin-mpnet-base\",model_kwargs={'device': 'cuda:0'})"
      ]
    },
    {
      "cell_type": "code",
      "execution_count": 3,
      "metadata": {
        "id": "C_-Yhm8LYm3q"
      },
      "outputs": [],
      "source": [
        "#db = Chroma.from_documents(documents=chunks,embedding=model,persist_directory=\"./chroma_db\")\n",
        "db = Chroma(persist_directory=\"./chroma_db\",embedding_function=model)"
      ]
    },
    {
      "cell_type": "code",
      "execution_count": 48,
      "metadata": {
        "id": "nSt8KGDqVekg"
      },
      "outputs": [],
      "source": [
        "from langchain.callbacks.streaming_stdout import StreamingStdOutCallbackHandler\n",
        "from langchain.callbacks.manager import CallbackManager\n",
        "\n",
        "\n",
        "llm = Ollama(model='mistral-7b-instruct-v0.2',callbacks=[StreamingStdOutCallbackHandler()])"
      ]
    },
    {
      "cell_type": "markdown",
      "metadata": {},
      "source": [
        "## Retreval + Generation"
      ]
    },
    {
      "cell_type": "code",
      "execution_count": 5,
      "metadata": {},
      "outputs": [],
      "source": [
        "retriever = db.as_retriever(search_kwargs={\"k\":5})"
      ]
    },
    {
      "cell_type": "code",
      "execution_count": 12,
      "metadata": {
        "id": "PrENVUnsY1cp"
      },
      "outputs": [],
      "source": [
        "from langchain_core.prompts import ChatPromptTemplate\n",
        "from langchain_core.runnables import RunnablePassthrough\n",
        "import langchain \n",
        "#langchain.debug = False\n",
        "from langchain_core.output_parsers import StrOutputParser\n",
        "template = \"\"\"<s>[INST] Context information is below.\n",
        "---------------------\n",
        "{context}\n",
        "---------------------\n",
        "Given the context information and not prior knowledge, answer the query.\n",
        "Query: {input}\n",
        "Answer: [/INST]\"\n",
        "\"\"\"\n",
        "prompt = ChatPromptTemplate.from_template(template)"
      ]
    },
    {
      "cell_type": "code",
      "execution_count": 13,
      "metadata": {},
      "outputs": [],
      "source": [
        "rag_chain = (\n",
        "    {\"context\":\"context\",\"input\":RunnablePassthrough()}\n",
        "    | prompt\n",
        "    | llm\n",
        "    | StrOutputParser()\n",
        ")"
      ]
    },
    {
      "cell_type": "code",
      "execution_count": 26,
      "metadata": {},
      "outputs": [
        {
          "name": "stdout",
          "output_type": "stream",
          "text": [
            "ocument does not provide the exact amount for Cash Flows from Investing Activities specifically for the year 2023. However, it shows that the net cash flow used in investing activities was 1,850,399 in 2023. Therefore, the total cash flows from investing activities would be the negative value of this number, which is -1,850,399.\n"
          ]
        }
      ],
      "source": [
        "#response = rag_chain.invoke(\"Give me the Cash From Investing Activities in 2023\")\n",
        "#print(response[response.find('[/INST]')+7:].replace(r'\\n', '+ \"\\n\" +'))"
      ]
    },
    {
      "cell_type": "code",
      "execution_count": 39,
      "metadata": {},
      "outputs": [
        {
          "name": "stdout",
          "output_type": "stream",
          "text": [
            " To calculate the Enterprise Value (EV) to Earnings Before Interest, Taxes, Depreciation, and Amortization (EBITDA) ratio, we need additional information such as total debt and cash or cash equivalents. The provided context only gives financial statements with revenue, profit before taxation, profit after taxation, and earnings per share. Therefore, we cannot calculate the EV to EBITDA ratio directly from the given context."
          ]
        }
      ],
      "source": [
        "query = \"What is the Enterprise value to EBITDA ratio for 2023?\"\n",
        "for chunks in rag_chain.stream(query):\n",
        "    print(chunks, end='')\n"
      ]
    }
  ],
  "metadata": {
    "accelerator": "GPU",
    "colab": {
      "gpuType": "T4",
      "provenance": []
    },
    "kernelspec": {
      "display_name": "Python 3",
      "name": "python3"
    },
    "language_info": {
      "codemirror_mode": {
        "name": "ipython",
        "version": 3
      },
      "file_extension": ".py",
      "mimetype": "text/x-python",
      "name": "python",
      "nbconvert_exporter": "python",
      "pygments_lexer": "ipython3",
      "version": "3.11.1"
    },
    "orig_nbformat": 4
  },
  "nbformat": 4,
  "nbformat_minor": 0
}
