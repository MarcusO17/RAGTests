{
  "cells": [
    {
      "cell_type": "code",
      "execution_count": null,
      "metadata": {},
      "outputs": [],
      "source": [
        "%pip install langchain pypdf nltk sentence_transformers chromadb ollama"
      ]
    },
    {
      "cell_type": "code",
      "execution_count": 10,
      "metadata": {},
      "outputs": [
        {
          "name": "stderr",
          "output_type": "stream",
          "text": [
            "UsageError: Line magic function `%jupyter` not found.\n"
          ]
        }
      ],
      "source": [
        "%jupyter nbextension enable --py widgetsnbextension"
      ]
    },
    {
      "cell_type": "markdown",
      "metadata": {
        "id": "kGtliCKgIAK-"
      },
      "source": [
        "### Loading Libraries\n"
      ]
    },
    {
      "cell_type": "code",
      "execution_count": 2,
      "metadata": {
        "id": "_i7BEvLuHKJN"
      },
      "outputs": [
        {
          "name": "stderr",
          "output_type": "stream",
          "text": [
            "[nltk_data] Downloading package punkt to C:\\Users\\Marcus\n",
            "[nltk_data]     Ong\\AppData\\Roaming\\nltk_data...\n",
            "[nltk_data]   Package punkt is already up-to-date!\n"
          ]
        },
        {
          "data": {
            "text/plain": [
              "True"
            ]
          },
          "execution_count": 2,
          "metadata": {},
          "output_type": "execute_result"
        }
      ],
      "source": [
        "from langchain.text_splitter import NLTKTextSplitter\n",
        "from langchain_community.document_loaders import PyPDFLoader\n",
        "from langchain_community.embeddings.sentence_transformer import SentenceTransformerEmbeddings\n",
        "from langchain.callbacks.streaming_stdout import StreamingStdOutCallbackHandler\n",
        "from langchain_community.vectorstores import Chroma\n",
        "from langchain.llms import Ollama\n",
        "import nltk\n",
        "nltk.download('punkt')\n",
        "\n"
      ]
    },
    {
      "cell_type": "code",
      "execution_count": 3,
      "metadata": {
        "id": "4H5WfjM0HKJO"
      },
      "outputs": [],
      "source": [
        "loader = PyPDFLoader(\"papers\\YTL Corporation Berhad_Annual Report 2023.pdf\")\n",
        "document = loader.load()"
      ]
    },
    {
      "cell_type": "code",
      "execution_count": 4,
      "metadata": {
        "id": "z5mnp49zLO8B"
      },
      "outputs": [
        {
          "data": {
            "text/plain": [
              "Document(page_content='SEGMENTAL REVIEW\\nHOTEL OPERATIONS\\nSEGMENT OVERVIEW\\nThe YTL Corp Group’s hotel management and development activities \\nare undertaken primarily through its listed entity, YTL REIT, and \\nthrough its wholly-owned subsidiary, YTL Hotels & Properties Sdn \\nBhd (“YTL Hotels”), and its subsidiaries (“YTL Hotels Group”). As at \\n30 June 2023, YTL Corp held a 56.96% stake in YTL REIT.\\nOPERATIONAL REVIEW\\nYTL Hotels Group\\nAs countries transitioned towards the endemic phase of Covid-19, \\nabundant pent-up demand for travel resulted in a marked \\nimprovement in occupancy and average rates across the YTL \\nHotels Group portfolio. The Group’s London hotels achieved \\noccupancies in the mid to high 80s, surpassing pre-pandemic \\nlevels. In Kuala Lumpur, several of the Group’s city hotels produced \\ntheir best occupancies since before the pandemic of up to 87%. \\nThrough the year the Group continued to see better results \\nfollowing the progressive re-opening of borders and gradual \\nrecovery of the tourism and hospitality sectors around the world.All remaining travel restrictions for Malaysia were lifted on  \\n1 August 2022 allowing a fully reopened border. This led to a \\ntourism rebound especially in the last quarter of 2022, with the \\nreturn of international travellers from the traditional markets of \\nEurope, Australia and Asia. As global borders progressively reopened \\nthrough the year, all resorts performed significantly better than \\nthe previous year. Staycations have continued as a key source of \\nbusiness in addition to short hops from around Asia. Gaya Island \\nResort has achieved its best results since opening. Tanjong Jara \\nResort has added a secluded luxury one-bedroom villa with a \\nprivate pool to its inventory of rooms. The villa has been designed \\nin the same traditional style of 17th century Malay palaces.\\nAwards won by the Group’s Luxury Resorts and Classic Hotels \\nover the year include the following: Travel + Leisure Luxury \\nAwards Asia Pacific 2023 placed Pangkor Laut Resort in the Top \\nTen for Best Hotel Pools Malaysia. Spa Village Pangkor Laut Resort \\nwon the ASEAN Spa Services Award at the ASEAN Tourism Awards \\nas well as Harper’s Bazaar Spa Awards for Best Traditional Spa \\nANNUAL REPORT 2023\\n29 STRATEGIC & PERFORMANCE REVIEWMANAGEMENT DISCUSSION & ANALYSIS', metadata={'source': 'papers\\\\YTL Corporation Berhad_Annual Report 2023.pdf', 'page': 30})"
            ]
          },
          "execution_count": 4,
          "metadata": {},
          "output_type": "execute_result"
        }
      ],
      "source": [
        "document[30]"
      ]
    },
    {
      "cell_type": "code",
      "execution_count": 5,
      "metadata": {
        "id": "O5M-d7S8HKJQ"
      },
      "outputs": [],
      "source": [
        "text_splitter = NLTKTextSplitter()\n",
        "chunks = text_splitter.split_documents(document)"
      ]
    },
    {
      "cell_type": "code",
      "execution_count": 6,
      "metadata": {
        "id": "fsfyR66QVY7S"
      },
      "outputs": [
        {
          "data": {
            "text/plain": [
              "'Support of the company’s ongoing digital transformation agenda \\nfocused on three key areas for the year under review, namely data \\nand analytics, application modernisation and cybersecurity.\\n\\nAs part \\nof its commitment to continuous advancement, YTL PowerSeraya’s \\nembrace of application modernisation included the completion of \\nseveral upgrading, cloud migration and re-platforming projects over \\nthe year.\\n\\nThese initiatives have led to improvements in system performance \\nand efficiency, increased scalability, an enhanced overall security \\nposture and ensured compliance for the company.\\n\\nRetail\\nYTL PowerSeraya’s retail brand, Geneco, held a market share of \\n13.5% in the electricity retail market (based on retail volume over \\ntotal system demand), with a sales volume of 7,408 GWh for the \\nfinancial year under review.\\n\\nThe retail market comprises customers \\nfrom the residential, commercial and industrial sectors.\\n\\nIn April 2023, Geneco expanded availability of its innovative green \\nPower Eco Add-on 2.0 to all of its residential customers, at any \\npoint of their contracts.\\n\\nAs at 30 June 2023, Geneco had 3,408 \\ncustomers who had opted for Power Eco Add-on.\\n\\nThis 2.0 initiative \\nis in line with Geneco’s commitment to supporting The Singapore \\nGreen Plan 2030 and building a more sustainable future for the \\nnation by encouraging its customers to do their part for the \\nenvironment.\\n\\nAs part of its digitalisation journey, Geneco launched Small & Medium \\nBusiness (SMB) Online in May 2023 to empower SMB customers \\nwith single premises and a load size of less than 20 megawatt \\nhours (MWh) per month, to sign up online.\\n\\nThis self-service portal \\noptimises operational requirements and provides automation to its \\nbusiness processes.\\n\\nIn less than 2 months, as at 30 June 2023, 123 \\nSMB customers had signed up via this new portal.\\n\\nFuel Management\\nYTL PowerSeraya’s fuel management arm demonstrated resilience \\nand achieved a commendable performance through the strategic \\napproach of successfully securing higher tank leasing rates and \\noptimising infrastructure assets.\\n\\nThis is especially notable given the challenges in the oil industry, \\nranging from geopolitical conflicts like the Russia-Ukraine situation \\nto global energy security concerns, coupled with slower-than-\\nexpected global economic recovery and inflationary pressures \\nleading to higher interest rates.\\n\\nThe division efficiently managed a substantial volume of 8.24 \\nmillion metric tonnes of fuel oil and diesel, a notable increase from \\nthe previous year’s 7.48 million metric tonnes.\\n\\nMoreover, the surge \\nin berthing for bunkering and cargo vessels saw 837 vessels at the \\nterminal, a significant increase from 644 vessels in the previous \\nyear, with an average berth utilisation rate of 41.85%, demonstrating \\nthe division’s commitment to optimal resource utilisation.\\n\\nStrategic efforts in optimising tank leasing and fuel management \\nactivities further underpinned the division’s success and an \\nunwavering focus on enhancing these core aspects will position \\nthe company for continued growth in the fuel management sector.SEGMENTAL REVIEW\\nYTL CORPORATION BERHAD\\n20 STRATEGIC & PERFORMANCE REVIEWMANAGEMENT DISCUSSION & ANALYSIS'"
            ]
          },
          "execution_count": 6,
          "metadata": {},
          "output_type": "execute_result"
        }
      ],
      "source": [
        "chunks[22].page_content"
      ]
    },
    {
      "cell_type": "code",
      "execution_count": 7,
      "metadata": {
        "id": "0rJudpA7HKJR"
      },
      "outputs": [
        {
          "name": "stderr",
          "output_type": "stream",
          "text": [
            "e:\\Github Repositories\\RAGTests\\.venv\\Lib\\site-packages\\tqdm\\auto.py:21: TqdmWarning: IProgress not found. Please update jupyter and ipywidgets. See https://ipywidgets.readthedocs.io/en/stable/user_install.html\n",
            "  from .autonotebook import tqdm as notebook_tqdm\n"
          ]
        }
      ],
      "source": [
        "model = SentenceTransformerEmbeddings(model_name=\"mukaj/fin-mpnet-base\")"
      ]
    },
    {
      "cell_type": "code",
      "execution_count": 8,
      "metadata": {
        "id": "C_-Yhm8LYm3q"
      },
      "outputs": [],
      "source": [
        "db = Chroma.from_documents(chunks,model)"
      ]
    },
    {
      "cell_type": "code",
      "execution_count": 9,
      "metadata": {
        "id": "nSt8KGDqVekg"
      },
      "outputs": [],
      "source": [
        "llm = Ollama(model='finance-chat')"
      ]
    },
    {
      "cell_type": "code",
      "execution_count": 42,
      "metadata": {
        "id": "PrENVUnsY1cp"
      },
      "outputs": [],
      "source": [
        "from langchain_core.prompts import ChatPromptTemplate\n",
        "from langchain.chains.combine_documents import create_stuff_documents_chain\n",
        "template = \"\"\"\"<<SYS>>You are a financial analyst, Answer my questions using only the context given, Your responses have to be precise and concise as they are very important, no yapping<</SYS>>\n",
        "<context>\n",
        "{context}\n",
        "</context>\n",
        "\n",
        "{input} [/INST]\n",
        "\n",
        "PARAMETER stop \"[INST]\"\n",
        "PARAMETER stop \"[/INST]\"\n",
        "PARAMETER stop \"<<SYS>>\"\n",
        "PARAMETER stop \"<</SYS>>\"\n",
        "\"\"\"\n",
        "prompt = ChatPromptTemplate.from_template(template)\n",
        "document_chain = create_stuff_documents_chain(llm, prompt)"
      ]
    },
    {
      "cell_type": "code",
      "execution_count": 43,
      "metadata": {
        "id": "1EWcoyVMZHAh"
      },
      "outputs": [],
      "source": [
        "from langchain.chains import create_retrieval_chain\n",
        "\n",
        "retriever = db.as_retriever(search_kwargs={\"k\": 5})\n",
        "retrieval_chain = create_retrieval_chain(retriever, document_chain)"
      ]
    },
    {
      "cell_type": "code",
      "execution_count": 50,
      "metadata": {
        "id": "VqKANFExWS7d"
      },
      "outputs": [],
      "source": [
        "response = retrieval_chain.invoke({\n",
        "    \"input\": \"\"\n",
        "\n",
        "})\n",
        "response['answer']"
      ]
    },
    {
      "cell_type": "code",
      "execution_count": 32,
      "metadata": {},
      "outputs": [
        {
          "data": {
            "text/plain": [
              "{'input': \"What is YTL's REITs\",\n",
              " 'context': [Document(page_content='GROUP OVERVIEW\\nThe YTL Corp Group has extensive operations in Malaysia, Singapore \\nand the United Kingdom (UK), as well as businesses, investments \\nand projects under development in other countries including Australia, \\nFrance, Indonesia, Jordan, the Netherlands, Thailand and Vietnam.\\n\\nYTL Corp’s entities listed on the Main Market of Bursa Malaysia \\nSecurities Berhad (“Bursa Securities”) are YTL Power International \\nBerhad (“YTL Power”), YTL Hospitality REIT (“YTL REIT”) and Malayan \\nCement Berhad (“MCB”).\\n\\nThe Group also has an investment in Starhill \\nGlobal Real Estate Investment Trust (“Starhill Global REIT”), which \\nis listed on the Mainboard of the SGX-ST, the Singapore stock \\nexchange.\\n\\nANNUAL REPORT 2023\\n09 STRATEGIC & PERFORMANCE REVIEWMANAGEMENT DISCUSSION & ANALYSIS', metadata={'page': 10, 'source': 'papers\\\\YTL Corporation Berhad_Annual Report 2023.pdf'}),\n",
              "  Document(page_content='44.\\n\\nLIST OF SUBSIDIARIES  (CONTINUED)\\nDetails of the subsidiaries are as follows:- (continued)\\nName of CompanyCountry of\\nIncorporation Principal ActivitiesEffective Equity\\nInterest\\n2023\\n%2022\\n%\\nHeld through Syarikat Pembenaan \\nYeoh Tiong Lay Sdn.\\n\\nBhd.\\n\\n: \\n(continued)\\nTransportable Camps Sdn.\\n\\nBhd.\\n\\nMalaysia Trading and rental of transportable \\ncabins and wood based products100.00 100.00\\nYap Yew Hup Brickworks (Perak) Sdn.\\n\\nBhd.\\n\\nMalaysia Inactive 93.80 93.80\\nYeoh Tiong Lay Realty Sdn.\\n\\nBhd.\\n\\nMalaysia Realty, investment and management \\nservices100.00 100.00\\nYTL Construction International (Cayman) \\nLimited‡Cayman Islands Investment holding in construction \\nrelated activities100.00 100.00\\nYTL Construction (S) Pte.\\n\\nLtd.*Singapore Construction related activities and real \\nestate developer100.00 100.00\\nYTL Civil Engineering Sdn.\\n\\nBhd.\\n\\nMalaysia Civil engineering works and construction 100.00 90.00\\nYTL Damansara 3 Sdn.\\n\\nBhd.\\n\\nMalaysia Property investment and development 100.00 100.00\\nYTL Development Sdn.\\n\\nBhd.\\n\\nMalaysia Property development 70.00 70.00\\nYTL High Speed Rail Sdn.\\n\\nBhd.\\n\\nMalaysia Inactive 100.00 100.00\\nYTL Project Management Services  \\nSdn.\\n\\nBhd.Malaysia Provision of management services for \\nconstruction projects100.00 100.00\\nYTL Technologies Sdn.\\n\\nBhd.\\n\\nMalaysia Servicing and hiring of equipment 99.22 99.22\\nHeld through YTL Cayman Limited:\\nJust Heritage Sdn.\\n\\nBhd.\\n\\n*Malaysia Management services 100.00 100.00\\nStarhill Global REIT Investments Limited‡Cayman Islands Investment holding 100.00 100.00\\nStarhill Global REIT Management Limited‡Cayman Islands Investment holding 100.00 100.00\\nYTL Construction (Thailand) Limited*Thailand Construction activities 74.89 74.89\\nYTL Power Services Sdn.\\n\\nBhd.\\n\\nMalaysia Operation and maintenance of power \\nstation100.00 100.00\\nYTL Property Investments Limited‡Cayman Islands Investment holding 100.00 100.00\\nYTL Starhill Global Property Management \\nPte.\\n\\nLtd.*Singapore Property management services 100.00 100.00\\nYTL Starhill Global REIT Management \\nHoldings Pte.\\n\\nLtd.*Singapore Investment holding 100.00 100.00\\nYTL Starhill Global REIT Management \\nLimited*Singapore Investment advisor, property fund \\nmanagement services and to act as \\nthe Manager of SGREIT100.00 100.00NOTES  TO  THE  FINANCIAL  STATEMENTS\\n– 30 June 2023\\nANNUAL REPORT 2023\\n271 FINANCIAL STATEMENTS', metadata={'page': 272, 'source': 'papers\\\\YTL Corporation Berhad_Annual Report 2023.pdf'}),\n",
              "  Document(page_content='Key Financial Highlights\\nTotal Assets\\nRM81,460.4\\nmillion\\nas at 30.06.2023Market Capitalisation\\nRM16,552.5\\nmillion\\nas at 30.09.2023Revenue\\nRM29,616.1\\nmillion\\nFY2023Profit Before Tax\\nRM2,729.1\\nmillion\\nFY2023YTL Corp is one of the largest companies listed on \\nthe Main Market of Bursa Malaysia Securities Berhad \\nand is a component of the FTSE Bursa Malaysia Mid \\n70 Index, as well as the FTSE4Good Bursa Malaysia \\nIndex.\\n\\nYTL Corp has a secondary listing on the Prime \\nMarket Foreign Stocks Segment of the Tokyo Stock \\nExchange and was the first non-Japanese Asian \\ncompany to list on the Tokyo exchange in 1996.YTL Corporation Berhad is an integrated infrastructure developer domiciled in Malaysia, with international \\noperations, investments and projects under development in countries including Singapore, the United \\nKingdom, Australia, France, Indonesia, Japan, Jordan, the Netherlands, Thailand and Vietnam.\\n\\nThe YTL Corp Group’s entities listed on the Main \\nMarket of Bursa Malaysia Securities Berhad are YTL \\nPower International Berhad, YTL Hospitality REIT \\nand Malayan Cement Berhad.\\n\\nThe Group also has a \\nminority stake in Starhill Global Real Estate \\nInvestment Trust, which is listed on the Mainboard \\nof the SGX-ST, the Singapore stock exchange.\\n\\nBUILDING THE RIGHT THING   |   The Journey Continues...\\nBusiness Segments\\nConstruction\\nCement & Building \\nMaterials Industry\\nUtilities\\nManagement Services  \\n& Others\\nHotel Operations\\nProperty Investment & \\nDevelopment\\nYTL CORPORATION BERHAD\\n02 OVERVIEWCORPORATE PROFILE', metadata={'page': 3, 'source': 'papers\\\\YTL Corporation Berhad_Annual Report 2023.pdf'}),\n",
              "  Document(page_content='GROUP OVERVIEWMANAGEMENT DISCUSSION & ANALYSIS\\nOBJECTIVES & STRATEGIES\\nThe YTL Corp Group pursues the geographic diversification and \\nexpansion of its revenue base through greenfield developments \\nand strategic acquisitions both domestically and overseas, focusing \\non regulated and other utility assets, and businesses correlated to \\nits core competencies of cement, construction, property development \\nand hotel operations, with the goal of maximising value and building \\nand operating strong businesses that are viable and sustainable \\non a long-term basis for the benefit of all stakeholders.\\n\\nThe YTL Corp Group also derives a significant part of its revenue \\nfrom operating various regulated and other utility assets under \\nlong-term concessions and/or licences, enabling the Group to \\nachieve stable earnings and mitigate the downside risks arising \\nfrom economic uncertainties and changing operating conditions, \\nboth in Malaysia and globally.\\n\\nThe principal components of the YTL Corp Group’s strategy comprise:\\n• Diversification and expansion of the Group’s revenue \\nbase through greenfield developments and strategic \\nacquisitions in Malaysia and overseas, particularly in \\nthe area of regulated utilities \\nThe YTL Corp Group pursues a strategy of acquiring regulated \\nassets operating under long-term concessions and other \\nbusinesses correlated to its core competencies.\\n\\nThe Group’s \\nregulated utilities demonstrate ongoing growth, with the \\nregulated asset value of these assets increasing over time.\\n\\nThe \\nGroup’s existing overseas operations in this area continue to \\ngenerate steady returns and its overseas acquisitions diversify \\nincome streams and enable the Group to avoid single-country \\nand single-industry risks.\\n\\n• Growth and enhancement of the YTL Corp Group’s core \\nbusinesses \\nThe Group’s strategy to grow its businesses is to leverage  \\nits expertise in its core competencies, particularly in the  \\nareas of power generation, water and sewerage services, \\ntelecommunications, construction contracting, property \\ndevelopment and investment, manufacturing of cement and \\nother industrial products and supplies and hotel development \\nand management (including restaurant operations).\\n\\nIn implementing its strategy, the Group focuses strongly on \\ngovernance, compliance and managing the economic, \\nenvironmental and social impacts of its businesses to ensure \\nthe long-term sustainability and viability of its operations.\\n\\n• Ongoing optimisation of the Group’s capital structure \\nThe YTL Corp Group maintains a balanced financial structure \\nby optimising the use of debt and equity financing and ensuring \\nthe availability of internally generated funds and external \\nfinancing to capitalise on acquisition opportunities.\\n\\nA key component of the Group’s growth strategy is its practice \\nof funding the debt component of its acquisitions and greenfield \\nprojects largely through non-recourse financing which has \\nensured that the Group only invests in projects that are \\ncommercially viable on a stand-alone basis.\\n\\n• Enhancement of operational efficiencies to maximise \\nreturns from the Group’s businesses and expand its \\ncustomer base \\nThe Group believes that its utilities and cement plants on \\naverage operate within the highest efficiency levels of their \\nindustries and further enhances operational efficiencies where \\npossible through the application of new technologies, production \\ntechniques and information technology.\\n\\nYTL CORPORATION BERHAD\\n10 STRATEGIC & PERFORMANCE REVIEW', metadata={'page': 11, 'source': 'papers\\\\YTL Corporation Berhad_Annual Report 2023.pdf'}),\n",
              "  Document(page_content='44.\\n\\nLIST OF SUBSIDIARIES  (CONTINUED)\\nDetails of the subsidiaries are as follows:- (continued)\\nName of CompanyCountry of\\nIncorporation Principal ActivitiesEffective Equity\\nInterest\\n2023\\n%2022\\n%\\nHeld by the Company: (continued)\\nYTL Energy Sdn.\\n\\nBhd.\\n\\nMalaysia Investment holding 100.00 100.00\\nYTL (Guernsey) Limited‡Guernsey Investment and property holding 100.00 100.00\\nYTL Hospitality REIT (\"YTLREIT\") Malaysia Investment in real estate 56.96 56.96\\nYTL Hotel Management Saint Tropez \\nSARL‡France Hotel operator and management services 100.00 100.00\\nYTL Hotels & Properties Sdn.\\n\\nBhd.\\n\\nMalaysia Investment holding and management \\nservices100.00 100.00\\nYTL Industries Berhad Malaysia Investment holding, property \\ndevelopment and property investment100.00 100.00\\nYTL Land Sdn.\\n\\nBhd.\\n\\nMalaysia Property investment, property and \\nproject management100.00 100.00\\nYTL Land & Development Berhad Malaysia Investment holding and provision of \\nmanagement, financial, treasury and \\nsecretarial services93.19 93.17\\nYTL Power International Berhad  \\n(\"YTL Power\")*Malaysia Investment holding and provision of \\nadministrative and technical support \\nservices55.57 55.57\\nYTL Singapore Pte.\\n\\nLtd.*Singapore Investment holding and management \\ncompany100.00 100.00\\nYTL-SV Carbon Sdn.\\n\\nBhd.\\n\\nMalaysia Provision of consultancy services 90.00 90.00\\nHeld through Business & Budget \\nHotels Sdn.\\n\\nBhd.\\n\\n:\\nBusiness & Budget Hotels (Penang) \\nSdn.\\n\\nBhd.Malaysia Hotel operator 51.00 51.00\\nBusiness & Budget Hotels (Seberang \\nJaya) Sdn.\\n\\nBhd.\\n\\n(In liquidation)∞Malaysia Inactive 51.00 51.00\\nHeld through Cane Creations Sdn.\\n\\nBhd.\\n\\n:\\nCane Creations (Marketing) Sdn.\\n\\nBhd.\\n\\nMalaysia Trading in cane furniture, local \\nhandicrafts, accessories and related \\nservices100.00 100.00\\nNiche Retailing Sdn.\\n\\nBhd.\\n\\nMalaysia Retailing of fashion apparels and related \\naccessories100.00 100.00\\nPP Refined Venture Sdn.\\n\\nBhd.\\n\\nMalaysia Retailing of fashion apparels and related \\naccessories51.00 100.00NOTES  TO  THE  FINANCIAL  STATEMENTS\\n– 30 June 2023\\nANNUAL REPORT 2023\\n269 FINANCIAL STATEMENTS', metadata={'page': 270, 'source': 'papers\\\\YTL Corporation Berhad_Annual Report 2023.pdf'})],\n",
              " 'answer': \" \\nYTL Corporation Berhad, a Malaysian multinational conglomerate, has established several REITs (real estate investment trust) as part of its strategic growth and diversification plans. These include YTL Hospitality REIT and YTL Hotel Management Saint Tropez SARL.\\n\\n1. YTL Hospitality REIT: This is a Malaysian-based property investment company that focuses on acquiring, developing, and managing a portfolio of hospitality assets such as hotels, resorts, and serviced apartments. The REIT has an effective equity interest of 56.96% in its properties held by the company.\\n\\n2. YTL Hotel Management Saint Tropez SARL: This is a French hotel operator that manages several properties under the YTL Hospitality REIT, including hotels and resorts in the Saint-Tropez region of France. The company has an effective equity interest of 100% in its properties held by the company.\\n\\n3. Other subsidiaries: YTL Corporation Berhad also holds shares in various other businesses such as YTL Land Sdn Bhd, YTL Industries Berhad, and YTL Power International Berhad. These companies are involved in property development, project management, and provision of administrative services to the parent company.\\n\\nIn summary, YTL Corporation Berhad's REITs, namely YTL Hospitality REIT and YTL Hotel Management Saint Tropez SARL, aim to capitalize on the growth potential of the hospitality industry while diversifying their portfolio beyond Malaysia. The company also holds stakes in other businesses as part of its strategic plan to expand its operations and increase returns for shareholders.\"}"
            ]
          },
          "execution_count": 32,
          "metadata": {},
          "output_type": "execute_result"
        }
      ],
      "source": [
        "response"
      ]
    },
    {
      "cell_type": "markdown",
      "metadata": {
        "id": "0FhMhd6PbyIM"
      },
      "source": [
        "# Running out of Tokens"
      ]
    }
  ],
  "metadata": {
    "accelerator": "GPU",
    "colab": {
      "gpuType": "T4",
      "provenance": []
    },
    "kernelspec": {
      "display_name": "Python 3",
      "name": "python3"
    },
    "language_info": {
      "codemirror_mode": {
        "name": "ipython",
        "version": 3
      },
      "file_extension": ".py",
      "mimetype": "text/x-python",
      "name": "python",
      "nbconvert_exporter": "python",
      "pygments_lexer": "ipython3",
      "version": "3.11.1"
    },
    "orig_nbformat": 4
  },
  "nbformat": 4,
  "nbformat_minor": 0
}
